{
 "cells": [
  {
   "cell_type": "code",
   "execution_count": 2,
   "id": "78ed4c4c",
   "metadata": {},
   "outputs": [],
   "source": [
    "import pandas as pd"
   ]
  },
  {
   "cell_type": "code",
   "execution_count": 3,
   "id": "bd91263c",
   "metadata": {},
   "outputs": [],
   "source": [
    "df = pd.read_csv(\"https://github.com/DataTalksClub/nyc-tlc-data/releases/download/fhv/fhv_tripdata_2019-07.csv.gz\")"
   ]
  },
  {
   "cell_type": "code",
   "execution_count": 4,
   "id": "c246fdcb",
   "metadata": {},
   "outputs": [
    {
     "name": "stdout",
     "output_type": "stream",
     "text": [
      "  dispatching_base_num      pickup_datetime     dropOff_datetime   \n",
      "0               B00013  2019-07-01 00:40:00  2019-07-01 01:19:25  \\\n",
      "1               B00014  2019-07-01 00:00:00  2019-07-01 01:06:35   \n",
      "\n",
      "   PUlocationID  DOlocationID  SR_Flag Affiliated_base_number  \n",
      "0         264.0         264.0      NaN                 B00013  \n",
      "1         264.0         264.0      NaN                 B00014  \n",
      "=====================================================\n",
      "columns: dispatching_base_num       object\n",
      "pickup_datetime            object\n",
      "dropOff_datetime           object\n",
      "PUlocationID              float64\n",
      "DOlocationID              float64\n",
      "SR_Flag                   float64\n",
      "Affiliated_base_number     object\n",
      "dtype: object\n"
     ]
    }
   ],
   "source": [
    "print(df.head(2))\n",
    "print(\"=====================================================\")\n",
    "print(f\"columns: {df.dtypes}\")"
   ]
  },
  {
   "cell_type": "code",
   "execution_count": 5,
   "id": "523473a1",
   "metadata": {},
   "outputs": [],
   "source": [
    "df[\"pickup_datetime\"] = pd.to_datetime(df[\"pickup_datetime\"])\n",
    "df[\"dropOff_datetime\"] = pd.to_datetime(df[\"dropOff_datetime\"])"
   ]
  },
  {
   "cell_type": "code",
   "execution_count": 6,
   "id": "88e58409",
   "metadata": {},
   "outputs": [
    {
     "name": "stdout",
     "output_type": "stream",
     "text": [
      "  dispatching_base_num     pickup_datetime    dropOff_datetime  PUlocationID   \n",
      "0               B00013 2019-07-01 00:40:00 2019-07-01 01:19:25         264.0  \\\n",
      "1               B00014 2019-07-01 00:00:00 2019-07-01 01:06:35         264.0   \n",
      "\n",
      "   DOlocationID  SR_Flag Affiliated_base_number  \n",
      "0         264.0      NaN                 B00013  \n",
      "1         264.0      NaN                 B00014  \n",
      "======================================================\n",
      "columns: dispatching_base_num              object\n",
      "pickup_datetime           datetime64[ns]\n",
      "dropOff_datetime          datetime64[ns]\n",
      "PUlocationID                     float64\n",
      "DOlocationID                     float64\n",
      "SR_Flag                          float64\n",
      "Affiliated_base_number            object\n",
      "dtype: object\n",
      "======================================================\n",
      "rows: 1947739\n"
     ]
    }
   ],
   "source": [
    "print(df.head(2))\n",
    "print(\"======================================================\")\n",
    "print(f\"columns: {df.dtypes}\")\n",
    "print(\"======================================================\")\n",
    "print(f\"rows: {len(df)}\")"
   ]
  },
  {
   "cell_type": "code",
   "execution_count": 7,
   "id": "1950e632",
   "metadata": {},
   "outputs": [
    {
     "name": "stdout",
     "output_type": "stream",
     "text": [
      "        dispatching_base_num     pickup_datetime    dropOff_datetime   \n",
      "0                     B00013 2019-07-01 00:40:00 2019-07-01 01:19:25  \\\n",
      "1                     B00014 2019-07-01 00:00:00 2019-07-01 01:06:35   \n",
      "2                     B00014 2019-07-01 00:04:27 2019-07-01 00:07:38   \n",
      "3                     B00014 2019-07-01 00:39:51 2019-07-01 00:42:24   \n",
      "4                     B00014 2019-07-01 00:10:00 2019-07-01 02:49:25   \n",
      "...                      ...                 ...                 ...   \n",
      "1947734               B03157 2019-07-31 23:22:36 2019-07-31 23:34:07   \n",
      "1947735               B03157 2019-07-31 23:43:54 2019-07-31 23:47:40   \n",
      "1947736               B03186 2019-07-31 23:19:08 2019-07-31 23:27:36   \n",
      "1947737               B03186 2019-07-31 23:43:37 2019-08-01 00:02:33   \n",
      "1947738               B03186 2019-07-31 23:10:17 2019-07-31 23:16:23   \n",
      "\n",
      "         PUlocationID  DOlocationID  SR_Flag Affiliated_base_number  \n",
      "0               264.0         264.0      NaN                 B00013  \n",
      "1               264.0         264.0      NaN                 B00014  \n",
      "2               264.0         264.0      NaN                 B00014  \n",
      "3               264.0         264.0      NaN                 B00014  \n",
      "4               264.0         264.0      NaN                 B00014  \n",
      "...               ...           ...      ...                    ...  \n",
      "1947734         264.0         265.0      NaN                 B03157  \n",
      "1947735         264.0         265.0      NaN                 B03157  \n",
      "1947736         264.0         265.0      NaN                 B03186  \n",
      "1947737         264.0         265.0      NaN                 B03186  \n",
      "1947738         264.0         265.0      NaN                 B03186  \n",
      "\n",
      "[1936684 rows x 7 columns]\n"
     ]
    }
   ],
   "source": [
    "# To see if PUlocationID has values that are not NaN\n",
    "print(df.loc[df.PUlocationID.notnull()])"
   ]
  }
 ],
 "metadata": {
  "kernelspec": {
   "display_name": "Python 3 (ipykernel)",
   "language": "python",
   "name": "python3"
  },
  "language_info": {
   "codemirror_mode": {
    "name": "ipython",
    "version": 3
   },
   "file_extension": ".py",
   "mimetype": "text/x-python",
   "name": "python",
   "nbconvert_exporter": "python",
   "pygments_lexer": "ipython3",
   "version": "3.9.15"
  }
 },
 "nbformat": 4,
 "nbformat_minor": 5
}
